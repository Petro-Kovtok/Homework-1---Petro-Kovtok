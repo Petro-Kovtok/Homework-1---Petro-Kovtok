{
 "cells": [
  {
   "cell_type": "markdown",
   "metadata": {},
   "source": [
    "# 1. Markdown  cells\n",
    "\n",
    "* Hi! It's Main Academy?\n",
    "* All HTML tabs are supported!\n",
    "* Моя сторінка на лінкедін [Лінкедін](https://www.linkedin.com/)\n",
    "\n",
    "# This is Heading1\n",
    "## This is Heading 2\n",
    "\n",
    "some gray colored text:\n",
    "\n",
    "> This is where we can bring quotes and present the nicely\n",
    "\n",
    "And this is the paragraph about something very important. Even math:\n",
    "\n",
    "$$ \\ \\ \\ \\ \\ \\ \\ \\ \\ \\ \\ \\ \\ \\ \\ \\ \\ \\ \\ \\ \\ \\ \\ \\ \\ \\ \\ \\ \\ \\ \\ \\ \\ \\ \\ \\ \\ \\ \\   y_{sub}=\\sqrt{x_{sub}}$$\n",
    " \n",
    "Or python code example:\n",
    "```python\n",
    "import math\n",
    "def foo():\n",
    "    return \"foo\"\n",
    "```\n",
    "\n",
    "<p style=\"font-family: georgia; font-size:13pt\">\n",
    "   Here is a sample mean:\n",
    "</p>\n",
    "\n",
    "$$\\ \\ \\ \\ \\ \\ \\ \\ \\ \\ \\ \\ \\ \\ \\ \\ \\ \\ \\ \\ \\ \\ \\ \\ \\ \\ \\ \\ \\ \\ \\ \\ \\ \\ \\ \\ \\ \\ \\ \\overline{y} = \\frac{1}{n}\\sum_{i=1}^n {y_i}$$\n",
    "\n",
    "<p style=\"font-family: georgia; font-size:13pt\">\n",
    "Here is a sample variance:\n",
    "</p>\n",
    "\n",
    "$$\\ \\ \\ \\ \\ \\ \\ \\ \\ \\ \\ \\ \\ \\ \\ \\ \\ \\ \\ \\ \\ \\ \\ \\ \\ \\ \\ \\ \\ \\ \\ \\ \\ \\ \\ \\ \\ \\ \\ \\sigma^2= \\frac{\\sum_{i=1}^n {\\left(y_i-\\overline{y}\\right)^2}}{n-1} $$\n",
    "\n",
    "<p style=\"font-family: georgia; font-size:13pt\">\n",
    "Here is a sample standart deviation:\n",
    "</p>\n",
    "\n",
    "$$\\ \\ \\ \\ \\ \\ \\ \\ \\ \\ \\ \\ \\ \\ \\ \\ \\ \\ \\ \\ \\ \\ \\ \\ \\ \\ \\ \\ \\ \\ \\ \\ \\ \\ \\ \\ \\ \\ \\ \\sigma= \\sqrt{\\frac{\\sum_{i=1}^n {\\left(y_i-\\overline{y}\\right)^2}}{n-1}} $$\n",
    "\n",
    "\n",
    "\n"
   ]
  },
  {
   "cell_type": "code",
   "execution_count": null,
   "metadata": {},
   "outputs": [],
   "source": []
  }
 ],
 "metadata": {
  "kernelspec": {
   "display_name": "Python 3",
   "language": "python",
   "name": "python3"
  },
  "language_info": {
   "codemirror_mode": {
    "name": "ipython",
    "version": 3
   },
   "file_extension": ".py",
   "mimetype": "text/x-python",
   "name": "python",
   "nbconvert_exporter": "python",
   "pygments_lexer": "ipython3",
   "version": "3.8.5"
  }
 },
 "nbformat": 4,
 "nbformat_minor": 4
}
